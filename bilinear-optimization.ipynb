{
 "cells": [
  {
   "cell_type": "code",
   "execution_count": 1,
   "id": "e7c739af",
   "metadata": {},
   "outputs": [],
   "source": [
    "import numpy as np\n",
    "import gurobipy as gp\n",
    "from gurobipy import GRB\n",
    "import networkx as nx\n",
    "import iteround"
   ]
  },
  {
   "cell_type": "code",
   "execution_count": 2,
   "id": "9e908ef4",
   "metadata": {},
   "outputs": [],
   "source": [
    "G = nx.DiGraph()\n",
    "# G.add_edges_from([(0,1), (1,0), (1,2), (2,1)])\n",
    "G.add_edges_from([(0,1), (1,0)])\n",
    "N = len(G.nodes)\n",
    "E = len(G.edges)\n",
    "edge2index, index = {}, 0\n",
    "for edge in G.edges():\n",
    "    edge2index[edge] = index\n",
    "    index += 1"
   ]
  },
  {
   "cell_type": "code",
   "execution_count": 3,
   "id": "0df54552",
   "metadata": {},
   "outputs": [
    {
     "name": "stdout",
     "output_type": "stream",
     "text": [
      "{0: [0], 1: [1]}\n",
      "{0: [1], 1: [0]}\n"
     ]
    }
   ],
   "source": [
    "# outbound edges\n",
    "out_edges, in_edges = {}, {}\n",
    "for n in range(N):\n",
    "    edges = G.out_edges(n)\n",
    "    out_edges[n] = [edge2index[e] for e in edges]\n",
    "    edges = G.in_edges(n)\n",
    "    in_edges[n] = [edge2index[e] for e in edges]\n",
    "\n",
    "print(out_edges)\n",
    "print(in_edges)"
   ]
  },
  {
   "cell_type": "code",
   "execution_count": 4,
   "id": "2f18c989",
   "metadata": {},
   "outputs": [],
   "source": [
    "# c = np.random.rand(E)\n",
    "# c = np.array([1, 1, 1, 1])\n",
    "c = np.array([1, 1])\n",
    "\n",
    "# p = np.random.rand(N)\n",
    "# p = np.array([100, 100, 100])\n",
    "p = np.array([100, 100])\n",
    "\n",
    "# vehicles = np.random.randint(low=1, high=20, size=N)\n",
    "# vehicles = np.array([100, 50, 0])\n",
    "vehicles = np.array([100, 50])\n",
    "\n",
    "# a = np.random.rand(N)\n",
    "# a = a/sum(a)\n",
    "# a = np.array([0.5, 0.25, 0.25])\n",
    "a = np.array([0.5, 0.5])\n",
    "\n",
    "target = a*sum(vehicles)\n",
    "target = iteround.saferound(target,0)\n",
    "target = [int(t) for t in target]\n"
   ]
  },
  {
   "cell_type": "markdown",
   "id": "dd59c394",
   "metadata": {},
   "source": []
  },
  {
   "cell_type": "code",
   "execution_count": 5,
   "id": "4f33f725",
   "metadata": {},
   "outputs": [
    {
     "name": "stdout",
     "output_type": "stream",
     "text": [
      "2 2\n",
      "[100  50]\n",
      "[75, 75]\n"
     ]
    }
   ],
   "source": [
    "print(N, E)\n",
    "print(vehicles)\n",
    "print(target)"
   ]
  },
  {
   "cell_type": "code",
   "execution_count": 6,
   "id": "da6bb45b",
   "metadata": {},
   "outputs": [],
   "source": [
    "A = np.zeros((4*N, E))\n",
    "B = np.zeros((4*N, N))\n",
    "b_orig = np.zeros((4*N, 1))\n",
    "\n",
    "row = 0\n",
    "for n in range(N):\n",
    "    for e in out_edges[n]:\n",
    "        A[row, e] = 1\n",
    "    b_orig[row,0] = vehicles[n]\n",
    "    row += 1\n",
    "\n",
    "for n in range(N):\n",
    "    for e in in_edges[n]:\n",
    "        A[row, e] = 1\n",
    "        A[row+1, e] = -1\n",
    "        A[row+2, e] = -1\n",
    "    for e in out_edges[n]:\n",
    "        A[row, e] = -1\n",
    "        A[row+1, e] = 1\n",
    "        A[row+2, e] = 1\n",
    "    B[row, n] = -1\n",
    "    B[row+1, n] = -1\n",
    "    b_orig[row, 0] = -vehicles[n]+target[n]\n",
    "    b_orig[row+1, 0] = vehicles[n]-target[n]\n",
    "    b_orig[row+2, 0] = vehicles[n]\n",
    "    row += 3\n",
    "    \n",
    "    "
   ]
  },
  {
   "cell_type": "code",
   "execution_count": 7,
   "id": "7d5a76f2",
   "metadata": {},
   "outputs": [
    {
     "name": "stdout",
     "output_type": "stream",
     "text": [
      "Set parameter Username\n",
      "Academic license - for non-commercial use only - expires 2024-02-02\n",
      "Gurobi Optimizer version 9.5.2 build v9.5.2rc0 (mac64[x86])\n",
      "Thread count: 8 physical cores, 16 logical processors, using up to 16 threads\n",
      "Optimize a model with 8 rows, 4 columns and 18 nonzeros\n",
      "Model fingerprint: 0xba98b834\n",
      "Coefficient statistics:\n",
      "  Matrix range     [1e+00, 1e+00]\n",
      "  Objective range  [1e+00, 1e+02]\n",
      "  Bounds range     [0e+00, 0e+00]\n",
      "  RHS range        [2e+01, 1e+02]\n",
      "Presolve removed 4 rows and 0 columns\n",
      "Presolve time: 0.00s\n",
      "Presolved: 4 rows, 4 columns, 12 nonzeros\n",
      "\n",
      "Iteration    Objective       Primal Inf.    Dual Inf.      Time\n",
      "       0    0.0000000e+00   6.250000e+00   0.000000e+00      0s\n",
      "       1    2.5000000e+01   0.000000e+00   0.000000e+00      0s\n",
      "\n",
      "Solved in 1 iterations and 0.01 seconds (0.00 work units)\n",
      "Optimal objective  2.500000000e+01\n",
      "\n",
      "    Variable            x \n",
      "-------------------------\n",
      "        x[0]           25 \n",
      "[25.0, 0.0, 0.0, 0.0]\n"
     ]
    }
   ],
   "source": [
    "m = gp.Model(\"forward-problem\")\n",
    "\n",
    "x = m.addVars(E, lb=0.0, ub=GRB.INFINITY, vtype=GRB.CONTINUOUS, name=\"x\")\n",
    "z = m.addVars(N, lb=0.0, ub=GRB.INFINITY, vtype=GRB.CONTINUOUS, name=\"z\")\n",
    "\n",
    "# Set objective: maximize x\n",
    "obj = 0\n",
    "for e in range(E):\n",
    "    obj += c[e] * x[e]\n",
    "for n in range(N):\n",
    "    obj += z[n] * p[n]\n",
    "    \n",
    "m.setObjective(obj, GRB.MINIMIZE)\n",
    "\n",
    "# vehicle outflow constraint\n",
    "for n in range(N):\n",
    "    m.addConstr(sum(x[e] for e in out_edges[n]) <= vehicles[n])\n",
    "\n",
    "# conservation of flow\n",
    "\n",
    "for n in range(N):\n",
    "    inflow = sum(x[e] for e in in_edges[n])\n",
    "    outflow = sum(x[e] for e in out_edges[n])\n",
    "    m.addConstr(inflow - outflow -z[n] <= -vehicles[n]+target[n])\n",
    "    m.addConstr(-inflow + outflow -z[n] <= vehicles[n]-target[n])\n",
    "    m.addConstr(outflow - inflow <= vehicles[n])\n",
    "    \n",
    "m.optimize()\n",
    "m.printAttr('x')\n",
    "decision = m.getAttr('x')\n",
    "print(decision)\n",
    "m.write('forward.lp')"
   ]
  },
  {
   "cell_type": "code",
   "execution_count": 8,
   "id": "cd49dcc9",
   "metadata": {},
   "outputs": [
    {
     "name": "stdout",
     "output_type": "stream",
     "text": [
      "Gurobi Optimizer version 9.5.2 build v9.5.2rc0 (mac64[x86])\n",
      "Thread count: 8 physical cores, 16 logical processors, using up to 16 threads\n",
      "Optimize a model with 8 rows, 4 columns and 18 nonzeros\n",
      "Model fingerprint: 0xba98b834\n",
      "Coefficient statistics:\n",
      "  Matrix range     [1e+00, 1e+00]\n",
      "  Objective range  [1e+00, 1e+02]\n",
      "  Bounds range     [0e+00, 0e+00]\n",
      "  RHS range        [2e+01, 1e+02]\n",
      "Presolve removed 4 rows and 0 columns\n",
      "Presolve time: 0.00s\n",
      "Presolved: 4 rows, 4 columns, 12 nonzeros\n",
      "\n",
      "Iteration    Objective       Primal Inf.    Dual Inf.      Time\n",
      "       0    0.0000000e+00   6.250000e+00   0.000000e+00      0s\n",
      "       1    2.5000000e+01   0.000000e+00   0.000000e+00      0s\n",
      "\n",
      "Solved in 1 iterations and 0.01 seconds (0.00 work units)\n",
      "Optimal objective  2.500000000e+01\n",
      "\n",
      "    Variable            x \n",
      "-------------------------\n",
      "        x[0]           25 \n",
      "[25.0, 0.0, 0.0, 0.0]\n"
     ]
    }
   ],
   "source": [
    "\"\"\"\n",
    "Confirming that the A, B, b matrices are well defined!\n",
    "\"\"\"\n",
    "\n",
    "m = gp.Model(\"forward-problem\")\n",
    "\n",
    "x = m.addVars(E, lb=0.0, ub=GRB.INFINITY, vtype=GRB.CONTINUOUS, name=\"x\")\n",
    "z = m.addVars(N, lb=0.0, ub=GRB.INFINITY, vtype=GRB.CONTINUOUS, name=\"z\")\n",
    "\n",
    "# Set objective: maximize x\n",
    "obj = 0\n",
    "for e in range(E):\n",
    "    obj += c[e] * x[e]\n",
    "for n in range(N):\n",
    "    obj += z[n] * p[n]\n",
    "    \n",
    "m.setObjective(obj, GRB.MINIMIZE)\n",
    "\n",
    "\n",
    "for i in range(4*N):\n",
    "    \n",
    "    term1 = sum(A[i, j] * x[j] for j in range(E))\n",
    "    term2 = sum(B[i, j] * z[j] for j in range(N))\n",
    "    m.addConstr(term1 + term2 <= b_orig[i,0])\n",
    "\n",
    "    \n",
    "m.optimize()\n",
    "m.printAttr('x')\n",
    "decision = m.getAttr('x')\n",
    "print(decision)\n",
    "m.write('forward-withA.lp')"
   ]
  },
  {
   "cell_type": "code",
   "execution_count": 9,
   "id": "c6a42289",
   "metadata": {},
   "outputs": [
    {
     "name": "stdout",
     "output_type": "stream",
     "text": [
      "[25.  0.]\n"
     ]
    }
   ],
   "source": [
    "# Optimal flows\n",
    "x_star = np.zeros(E)\n",
    "for i in range(E):\n",
    "    x_star[i] = x[i].X\n",
    "total_vehicles = sum(vehicles)\n",
    "# we also know vehicles and target\n",
    "\n",
    "print(x_star)"
   ]
  },
  {
   "cell_type": "code",
   "execution_count": 18,
   "id": "c4c286e8",
   "metadata": {
    "scrolled": false
   },
   "outputs": [
    {
     "name": "stdout",
     "output_type": "stream",
     "text": [
      "Set parameter NonConvex to value 2\n",
      "Gurobi Optimizer version 9.5.2 build v9.5.2rc0 (mac64[x86])\n",
      "Thread count: 8 physical cores, 16 logical processors, using up to 16 threads\n",
      "Optimize a model with 12 rows, 19 columns and 30 nonzeros\n",
      "Model fingerprint: 0x6b63da39\n",
      "Model has 1 quadratic constraint\n",
      "Coefficient statistics:\n",
      "  Matrix range     [1e+00, 1e+00]\n",
      "  QMatrix range    [1e+00, 1e+00]\n",
      "  QLMatrix range   [1e+00, 1e+02]\n",
      "  Objective range  [1e+00, 1e+00]\n",
      "  Bounds range     [0e+00, 0e+00]\n",
      "  RHS range        [1e+00, 1e+02]\n",
      "  QRHS range       [2e+01, 2e+01]\n",
      "Presolve removed 8 rows and 0 columns\n",
      "\n",
      "Continuous model is non-convex -- solving as a MIP\n",
      "\n",
      "Presolve removed 8 rows and 0 columns\n",
      "Presolve time: 0.00s\n",
      "Presolved: 37 rows, 28 columns, 87 nonzeros\n",
      "Presolved model has 8 bilinear constraint(s)\n",
      "Variable types: 28 continuous, 0 integer (0 binary)\n",
      "\n",
      "Root relaxation: objective 0.000000e+00, 8 iterations, 0.00 seconds (0.00 work units)\n",
      "\n",
      "    Nodes    |    Current Node    |     Objective Bounds      |     Work\n",
      " Expl Unexpl |  Obj  Depth IntInf | Incumbent    BestBd   Gap | It/Node Time\n",
      "\n",
      "     0     0    0.00000    0    5          -    0.00000      -     -    0s\n",
      "H    0     0                       0.0000000    0.00000      -     -    0s\n",
      "     0     0    0.00000    0    5    0.00000    0.00000      -     -    0s\n",
      "H    0     0                       0.0000000    0.00000  0.00%     -    0s\n",
      "\n",
      "Explored 1 nodes (8 simplex iterations) in 0.02 seconds (0.00 work units)\n",
      "Thread count was 16 (of 16 available processors)\n",
      "\n",
      "Solution count 2: 0 1.65048e-09 \n",
      "\n",
      "Optimal solution found (tolerance 1.00e-04)\n",
      "Best objective 0.000000000000e+00, best bound 0.000000000000e+00, gap 0.0000%\n",
      "\n",
      "    Variable            x \n",
      "-------------------------\n",
      "        b[0]           25 \n",
      "        b[3]           25 \n",
      "        b[4]           25 \n",
      "        b[5]           25 \n",
      "   lambda[0]            1 \n",
      "[0.0, 0.0, 0.0, 25.0, 0.0, 0.0, 25.0, 25.0, 25.0, 0.0, 0.0, 1.0, 0.0, 0.0, 0.0, 0.0, 0.0, 0.0, 0.0]\n",
      "Warning: Q constraint 0 doesn't have a name\n",
      "eps = 0.0\n",
      "z[0] = 0.0\n",
      "z[1] = 0.0\n",
      "b[0] = 25.0\n",
      "b[1] = 0.0\n",
      "b[2] = 0.0\n",
      "b[3] = 25.0\n",
      "b[4] = 25.0\n",
      "b[5] = 25.0\n",
      "b[6] = 0.0\n",
      "b[7] = 0.0\n",
      "lambda[0] = 1.0\n",
      "lambda[1] = 0.0\n",
      "lambda[2] = 0.0\n",
      "lambda[3] = 0.0\n",
      "lambda[4] = 0.0\n",
      "lambda[5] = 0.0\n",
      "lambda[6] = 0.0\n",
      "lambda[7] = 0.0\n",
      "Estimate for a :  [0.57142857 0.42857143]\n"
     ]
    }
   ],
   "source": [
    "# Using an example solution\n",
    "# Use it as an input for inverse optimization\n",
    "\n",
    "m = gp.Model(\"inverse-problem\")\n",
    "\n",
    "eps = m.addVar(lb=0.0, ub=GRB.INFINITY, vtype=GRB.CONTINUOUS,name='eps')\n",
    "z = m.addVars(N, lb=0.0, ub=GRB.INFINITY, vtype=GRB.CONTINUOUS, name=\"z\")\n",
    "b = m.addVars(4*N, vtype=GRB.CONTINUOUS, name=\"b\")\n",
    "l = m.addVars(4*N, lb=0.0, ub=GRB.INFINITY, vtype=GRB.CONTINUOUS, name=\"lambda\")\n",
    "              \n",
    "              \n",
    "m.setObjective(eps, GRB.MINIMIZE)\n",
    "\n",
    "# duality gap\n",
    "m.addConstr(sum(c[i]*x_star[i] for i in range(E)) + sum(p[i] * z[i] for i in range(N)) + eps == sum(b[i]*l[i] for i in range(4*N)))\n",
    "\n",
    "# Ax < b part\n",
    "# vehicle outflow constraint\n",
    "row, column = A.shape\n",
    "for r in range(row):\n",
    "    term1 = sum(A[r, j] * x_star[j] for j in range(E))\n",
    "    term2 = sum(B[r, j] * z[j] for j in range(N))\n",
    "    m.addConstr(term1 + term2 <= b[r])\n",
    "    \n",
    "# constraints on b\n",
    "# for n in range(N):\n",
    "#     m.addConstr(b[n] == vehicles[n])\n",
    "\n",
    "# row = N\n",
    "# index = 0\n",
    "# while row < 4*N:\n",
    "#     m.addConstr(b[row] ==  -1* b[row+1])\n",
    "#     m.addConstr(b[row+2] == vehicles[index])\n",
    "#     index += 1\n",
    "#     row += 3\n",
    "\n",
    "for e in range(E):\n",
    "    lhs = 0\n",
    "    for r in range(row):\n",
    "        lhs += A[r,e] * l[r]\n",
    "    m.addConstr(lhs <= c[e])\n",
    "    \n",
    "for n in range(N):\n",
    "    lhs = 0\n",
    "    for r in range(row):\n",
    "        lhs += B[r,n] * l[r]\n",
    "    m.addConstr(lhs <= p[n])\n",
    "\n",
    "m.Params.NonConvex = 2\n",
    "m.optimize()\n",
    "m.printAttr('x')\n",
    "decision = m.getAttr('x')\n",
    "print(decision)\n",
    "m.write('inverse-withA.lp')\n",
    "\n",
    "for v in m.getVars():\n",
    "    print(f\"{v.VarName} = {v.X}\")\n",
    "    \n",
    "# extracting the solution\n",
    "\n",
    "estimate_a = np.zeros(N)\n",
    "for i in range(N):\n",
    "    estimate_a[i] = b[N+3*i].X + vehicles[i]\n",
    "    \n",
    "estimate_a = estimate_a / sum(estimate_a)\n",
    "print(\"Estimate for a : \", estimate_a)\n",
    "b_extracted = [b[i].X for i in range(4*N)]\n",
    "z_extracted = [z[i].X for i in range(N)]"
   ]
  },
  {
   "cell_type": "code",
   "execution_count": 11,
   "id": "e3bcc837",
   "metadata": {},
   "outputs": [
    {
     "name": "stdout",
     "output_type": "stream",
     "text": [
      "[[100.]\n",
      " [ 50.]\n",
      " [-25.]\n",
      " [ 25.]\n",
      " [100.]\n",
      " [ 25.]\n",
      " [-25.]\n",
      " [ 50.]]\n"
     ]
    }
   ],
   "source": [
    "print(b_orig)"
   ]
  },
  {
   "cell_type": "code",
   "execution_count": 22,
   "id": "b21123f9",
   "metadata": {},
   "outputs": [
    {
     "name": "stdout",
     "output_type": "stream",
     "text": [
      "[25.0, 0.0, 0.0, 25.0, 25.0, 25.0, 0.0, 0.0]\n",
      "[0.0, 0.0]\n",
      "[1 1] [100 100]\n"
     ]
    }
   ],
   "source": [
    "print(b_extracted)\n",
    "print(z_extracted)\n",
    "print(c, p)"
   ]
  },
  {
   "cell_type": "code",
   "execution_count": 23,
   "id": "0f563528",
   "metadata": {},
   "outputs": [
    {
     "name": "stdout",
     "output_type": "stream",
     "text": [
      "Gurobi Optimizer version 9.5.2 build v9.5.2rc0 (mac64[x86])\n",
      "Thread count: 8 physical cores, 16 logical processors, using up to 16 threads\n",
      "Optimize a model with 8 rows, 2 columns and 14 nonzeros\n",
      "Model fingerprint: 0x5b6e94ce\n",
      "Coefficient statistics:\n",
      "  Matrix range     [1e+00, 1e+00]\n",
      "  Objective range  [1e+00, 1e+00]\n",
      "  Bounds range     [0e+00, 0e+00]\n",
      "  RHS range        [2e+01, 2e+01]\n",
      "Presolve removed 8 rows and 2 columns\n",
      "Presolve time: 0.00s\n",
      "Presolve: All rows and columns removed\n",
      "Iteration    Objective       Primal Inf.    Dual Inf.      Time\n",
      "       0    0.0000000e+00   0.000000e+00   0.000000e+00      0s\n",
      "\n",
      "Solved in 0 iterations and 0.01 seconds (0.00 work units)\n",
      "Optimal objective  0.000000000e+00\n",
      "\n",
      "    Variable            x \n",
      "-------------------------\n",
      "[0.0, 0.0]\n"
     ]
    }
   ],
   "source": [
    "\"\"\"\n",
    "Validating the inverse solution\n",
    "\"\"\"\n",
    "\n",
    "m = gp.Model(\"forward-problem\")\n",
    "\n",
    "x = m.addVars(E, lb=0.0, ub=GRB.INFINITY, vtype=GRB.CONTINUOUS, name=\"x\")\n",
    "# z = m.addVars(N, lb=0.0, ub=GRB.INFINITY, vtype=GRB.CONTINUOUS, name=\"z\")\n",
    "\n",
    "# Set objective: maximize x\n",
    "obj = 0\n",
    "for e in range(E):\n",
    "    obj += c[e] * x[e]\n",
    "for n in range(N):\n",
    "    obj += z_extracted[n] * p[n]\n",
    "    \n",
    "m.setObjective(obj, GRB.MINIMIZE)\n",
    "\n",
    "\n",
    "for i in range(4*N):\n",
    "    \n",
    "    term1 = sum(A[i, j] * x[j] for j in range(E))\n",
    "    term2 = sum(B[i, j] * z_extracted[j] for j in range(N))\n",
    "    m.addConstr(term1 + term2 <= b_extracted[i])\n",
    "\n",
    "    \n",
    "m.optimize()\n",
    "m.printAttr('x')\n",
    "decision = m.getAttr('x')\n",
    "print(decision)\n"
   ]
  },
  {
   "cell_type": "code",
   "execution_count": null,
   "id": "e057f5c0",
   "metadata": {},
   "outputs": [],
   "source": []
  },
  {
   "cell_type": "code",
   "execution_count": null,
   "id": "c0ed79d8",
   "metadata": {},
   "outputs": [],
   "source": []
  }
 ],
 "metadata": {
  "kernelspec": {
   "display_name": "Python 3 (ipykernel)",
   "language": "python",
   "name": "python3"
  },
  "language_info": {
   "codemirror_mode": {
    "name": "ipython",
    "version": 3
   },
   "file_extension": ".py",
   "mimetype": "text/x-python",
   "name": "python",
   "nbconvert_exporter": "python",
   "pygments_lexer": "ipython3",
   "version": "3.9.7"
  }
 },
 "nbformat": 4,
 "nbformat_minor": 5
}
